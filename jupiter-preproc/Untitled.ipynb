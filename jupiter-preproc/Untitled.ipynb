{
 "cells": [
  {
   "cell_type": "markdown",
   "metadata": {},
   "source": [
    "# Preprocessing Titanic #"
   ]
  },
  {
   "cell_type": "markdown",
   "metadata": {},
   "source": [
    "libraries needed"
   ]
  },
  {
   "cell_type": "code",
   "execution_count": 22,
   "metadata": {},
   "outputs": [],
   "source": [
    "import pandas as pd\n",
    "import xgboost as xgb\n",
    "from sklearn.metrics import classification_report\n",
    "from sklearn.model_selection import GridSearchCV\n",
    "from sklearn.preprocessing import LabelEncoder\n",
    "from sklearn.feature_extraction.text import CountVectorizer\n",
    "from sklearn.ensemble import RandomForestClassifier,VotingClassifier\n",
    "from sklearn.neighbors import RadiusNeighborsClassifier\n",
    "from sklearn.neural_network import MLPClassifier\n",
    "import numpy as np\n",
    "import re "
   ]
  },
  {
   "cell_type": "markdown",
   "metadata": {},
   "source": [
    "import data"
   ]
  },
  {
   "cell_type": "code",
   "execution_count": 23,
   "metadata": {},
   "outputs": [],
   "source": [
    "df = pd.read_csv('train.csv', index_col='PassengerId')\n",
    "titanic = pd.read_csv('train.csv')#, index_col='PassengerId')\n",
    "df_test = pd.read_csv('test.csv' , index_col='PassengerId')\n",
    "test_titanic = pd.read_csv('test.csv')# , index_col='PassengerId')"
   ]
  },
  {
   "cell_type": "markdown",
   "metadata": {},
   "source": [
    "drop  useless feature"
   ]
  },
  {
   "cell_type": "code",
   "execution_count": 24,
   "metadata": {},
   "outputs": [
    {
     "name": "stdout",
     "output_type": "stream",
     "text": [
      "<class 'pandas.core.frame.DataFrame'>\n",
      "RangeIndex: 891 entries, 0 to 890\n",
      "Data columns (total 9 columns):\n",
      "Survived    891 non-null int64\n",
      "Pclass      891 non-null int64\n",
      "Sex         891 non-null object\n",
      "Age         714 non-null float64\n",
      "SibSp       891 non-null int64\n",
      "Parch       891 non-null int64\n",
      "Fare        891 non-null float64\n",
      "Cabin       204 non-null object\n",
      "Embarked    889 non-null object\n",
      "dtypes: float64(2), int64(4), object(3)\n",
      "memory usage: 62.7+ KB\n",
      "None\n"
     ]
    }
   ],
   "source": [
    "titanic.drop(['Name','Ticket', 'PassengerId'], axis=1, inplace=True)\n",
    "\n",
    "test_titanic.drop(['Name','Ticket','PassengerId'], axis=1 , inplace=True)\n",
    "\n",
    "print(titanic.info())"
   ]
  },
  {
   "cell_type": "markdown",
   "metadata": {},
   "source": [
    "feature cabin --> keeping the deck & filling NA with 'Z'"
   ]
  },
  {
   "cell_type": "code",
   "execution_count": 25,
   "metadata": {},
   "outputs": [
    {
     "name": "stdout",
     "output_type": "stream",
     "text": [
      "Survived      0\n",
      "Pclass        0\n",
      "Sex           0\n",
      "Age         177\n",
      "SibSp         0\n",
      "Parch         0\n",
      "Fare          0\n",
      "Cabin       687\n",
      "Embarked      2\n",
      "dtype: int64\n",
      "Pclass        0\n",
      "Sex           0\n",
      "Age          86\n",
      "SibSp         0\n",
      "Parch         0\n",
      "Fare          1\n",
      "Cabin       327\n",
      "Embarked      0\n",
      "dtype: int64\n"
     ]
    }
   ],
   "source": [
    "print(titanic.isna().sum())\n",
    "print(test_titanic.isna().sum())"
   ]
  },
  {
   "cell_type": "code",
   "execution_count": 26,
   "metadata": {},
   "outputs": [],
   "source": [
    "titanic[\"Cabin\"] = pd.Series([i[0] if not pd.isnull(i) else 'Z' for i in titanic['Cabin'] ])\n",
    "\n",
    "test_titanic['Cabin'].fillna('Z', inplace=True)\n",
    "#test_titanic[\"Cabin\"] = pd.Series([i[0] if not pd.isnull(i) else 'Z' for i in test_titanic['Cabin'] ])\n",
    "Cabin = []\n",
    "for i in test_titanic['Cabin']:\n",
    "    Cabin.append(i[0])\n",
    "test_titanic['Cabin'] = Cabin\n",
    "\n"
   ]
  },
  {
   "cell_type": "markdown",
   "metadata": {},
   "source": [
    "Filling NA in age by mean by Pclass"
   ]
  },
  {
   "cell_type": "code",
   "execution_count": 27,
   "metadata": {},
   "outputs": [],
   "source": [
    "means = df.groupby('Pclass').Age.median()\n",
    "for i in titanic[titanic.Age.isnull()].index:\n",
    "    titanic.loc[i, 'Age'] = means[titanic.loc[i].Pclass]\n",
    "    \n",
    "for i in test_titanic[test_titanic.Age.isnull()].index:\n",
    "    test_titanic.loc[i, 'Age'] = means[test_titanic.loc[i].Pclass]"
   ]
  },
  {
   "cell_type": "markdown",
   "metadata": {},
   "source": [
    "Get title from the name feature and aggregate similar value"
   ]
  },
  {
   "cell_type": "code",
   "execution_count": 29,
   "metadata": {},
   "outputs": [],
   "source": [
    "df_title = df['Name']\n",
    "# Get Title from Name\n",
    "data_title = [i.split(\",\")[1].split(\".\")[0].strip() for i in df_title]\n",
    "titanic[\"Title\"] = pd.Series(data_title)\n",
    "titanic['Title'].replace({'Mme':'Mrs','the Countess':'Lady','Mlle':'Miss','Ms':'Mrs' ,'Jonkheer':'Sir', 'Major':'Col', 'Capt':'Col' , 'Don':'Sir'}, inplace=True)\n",
    "\n",
    "df_title = df_test['Name']\n",
    "data_title = [i.split(\",\")[1].split(\".\")[0].strip() for i in df_title]\n",
    "test_titanic['Title'] = data_title\n",
    "test_titanic['Title'].replace({'Dona':'Lady', 'Ms' : 'Mrs'}, inplace=True)"
   ]
  },
  {
   "cell_type": "markdown",
   "metadata": {},
   "source": [
    "fill na in the feature fare in the test data by 0 and drop the 2 rows with na in 'embarked' in the train set"
   ]
  },
  {
   "cell_type": "code",
   "execution_count": 30,
   "metadata": {},
   "outputs": [
    {
     "name": "stdout",
     "output_type": "stream",
     "text": [
      "Pclass      0\n",
      "Sex         0\n",
      "Age         0\n",
      "SibSp       0\n",
      "Parch       0\n",
      "Fare        0\n",
      "Cabin       0\n",
      "Embarked    0\n",
      "Title       0\n",
      "dtype: int64\n",
      "Survived    0\n",
      "Pclass      0\n",
      "Sex         0\n",
      "Age         0\n",
      "SibSp       0\n",
      "Parch       0\n",
      "Fare        0\n",
      "Cabin       0\n",
      "Embarked    0\n",
      "Title       0\n",
      "dtype: int64\n"
     ]
    }
   ],
   "source": [
    "test_titanic['Fare'].fillna(0, inplace=True)\n",
    "titanic.dropna(inplace=True)\n",
    "\n",
    "\n",
    "print(test_titanic.isna().sum())\n",
    "print(titanic.isna().sum())"
   ]
  },
  {
   "cell_type": "markdown",
   "metadata": {},
   "source": [
    "remove target from train datas"
   ]
  },
  {
   "cell_type": "code",
   "execution_count": 32,
   "metadata": {},
   "outputs": [],
   "source": [
    "X = titanic.drop('Survived', axis=1)\n",
    "y = titanic['Survived']"
   ]
  },
  {
   "cell_type": "markdown",
   "metadata": {},
   "source": [
    "label encoder"
   ]
  },
  {
   "cell_type": "code",
   "execution_count": null,
   "metadata": {},
   "outputs": [],
   "source": []
  },
  {
   "cell_type": "raw",
   "metadata": {},
   "source": [
    "to_label = [\n",
    "#'Name',        \n",
    "'Sex',\n",
    "#'Ticket',\n",
    "'Cabin',\n",
    "'Embarked',\n",
    "'Title'\n",
    "]\n",
    "\n",
    "\n",
    "le = LabelEncoder()\n",
    "for i in to_label:\n",
    "    X[i] = X[i].astype(str)\n",
    "    X[i] = le.fit_transform(X.iloc[:,X.columns.get_loc(i)])\n",
    "    \n",
    "    test_titanic[i]= test_titanic[i].astype(str)\n",
    "    test_titanic[i]= le.transform(test_titanic.iloc[:,test_titanic.columns.get_loc(i)])"
   ]
  },
  {
   "cell_type": "markdown",
   "metadata": {},
   "source": [
    "training model"
   ]
  },
  {
   "cell_type": "code",
   "execution_count": 34,
   "metadata": {},
   "outputs": [
    {
     "name": "stdout",
     "output_type": "stream",
     "text": [
      "Fitting 10 folds for each of 1 candidates, totalling 10 fits\n"
     ]
    },
    {
     "name": "stderr",
     "output_type": "stream",
     "text": [
      "[Parallel(n_jobs=1)]: Using backend SequentialBackend with 1 concurrent workers.\n",
      "[Parallel(n_jobs=1)]: Done  10 out of  10 | elapsed:    4.4s finished\n"
     ]
    }
   ],
   "source": [
    "randomfor = RandomForestClassifier(n_jobs= -1)\n",
    "\n",
    "paramsrf={\n",
    "        'n_estimators': [200],#[50,100,200],\n",
    "        'bootstrap' : [True],# False],\n",
    "#        'oob_score' : [True, False],\n",
    "        'warm_start' : [False], #, False],\n",
    "        'class_weight' : ['balanced'],#['balanced', 'balanced_subsample', None]\n",
    "        'max_depth' : [4]        \n",
    "        }\n",
    "gridforest = GridSearchCV(estimator=randomfor, cv=10, param_grid=paramsrf, pre_dispatch=4, verbose=1, scoring='accuracy')   \n",
    "gridforest.fit(X,y)\n",
    "\n",
    "bestforest = gridforest.best_estimator_\n",
    "predictforest = bestforest.predict(X)\n",
    "reportforest = classification_report(y, predictforest)"
   ]
  },
  {
   "cell_type": "markdown",
   "metadata": {},
   "source": [
    "predict on the test data and formatting the csv for kaggle"
   ]
  },
  {
   "cell_type": "code",
   "execution_count": 35,
   "metadata": {},
   "outputs": [],
   "source": [
    "predict_ts= bestforest.predict(test_titanic)\n",
    "predict_ts = pd.DataFrame(predict_ts)\n",
    "predict_ts.columns = ['Survived']\n",
    "predict_ts.index = df_test.index\n",
    "predict_ts.index.name = 'PassengerId'\n",
    "predict_ts.to_csv('titanic.csv')"
   ]
  },
  {
   "cell_type": "code",
   "execution_count": null,
   "metadata": {},
   "outputs": [],
   "source": []
  }
 ],
 "metadata": {
  "kernelspec": {
   "display_name": "Python 3",
   "language": "python",
   "name": "python3"
  },
  "language_info": {
   "codemirror_mode": {
    "name": "ipython",
    "version": 3
   },
   "file_extension": ".py",
   "mimetype": "text/x-python",
   "name": "python",
   "nbconvert_exporter": "python",
   "pygments_lexer": "ipython3",
   "version": "3.7.3"
  }
 },
 "nbformat": 4,
 "nbformat_minor": 2
}
